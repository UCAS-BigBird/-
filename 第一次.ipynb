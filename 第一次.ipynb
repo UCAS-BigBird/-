{
  "nbformat": 4,
  "nbformat_minor": 0,
  "metadata": {
    "colab": {
      "name": "第一次.ipynb",
      "version": "0.3.2",
      "provenance": [],
      "include_colab_link": true
    },
    "kernelspec": {
      "name": "python3",
      "display_name": "Python 3"
    },
    "accelerator": "GPU"
  },
  "cells": [
    {
      "cell_type": "markdown",
      "metadata": {
        "id": "view-in-github",
        "colab_type": "text"
      },
      "source": [
        "<a href=\"https://colab.research.google.com/github/UCAS-BigBird/-/blob/master/%E7%AC%AC%E4%B8%80%E6%AC%A1.ipynb\" target=\"_parent\"><img src=\"https://colab.research.google.com/assets/colab-badge.svg\" alt=\"Open In Colab\"/></a>"
      ]
    },
    {
      "metadata": {
        "id": "mPqb32t-UcGW",
        "colab_type": "code",
        "colab": {}
      },
      "cell_type": "code",
      "source": [
        "import pandas as pd\n",
        "from sklearn.model_selection import train_test_split \n",
        "train = pd.read_table(\"zhengqi_train.txt\")\n",
        "y=train['target']\n",
        "train.drop('target',axis=1,inplace=True)\n",
        "test = pd.read_table(\"zhengqi_test.txt\")\n",
        "#X_test = pd.read_csv(\"xtest.csv\", header=None)\n",
        "#Y_test = pd.read_csv(\"ytest.csv\", header=None)\n",
        "x_train,x_test,y_trian,y_test=train_test_split(train,y,test_size=0.2)\n",
        "print(x_train.shape)\n",
        "print(x_test.shape)\n",
        "print(y_trian.shape)\n",
        "print(y_test.shape)\n",
        "from keras.models import Sequential\n",
        "from keras.layers import Dense\n",
        "\n",
        "classifier = Sequential() # Initialising the ANN\n",
        "\n",
        "classifier.add(Dense(units = 16, activation = 'relu', input_dim = 38))\n",
        "classifier.add(Dense(units = 8, activation = 'relu'))\n",
        "classifier.add(Dense(units = 6, activation = 'relu'))\n",
        "classifier.add(Dense(units = 1, kernel_initializer='normal'))\n",
        "classifier.compile(optimizer = 'rmsprop', loss = 'mean_squared_error')\n",
        "classifier.fit(x_train, y_trian, batch_size = 5, epochs = 100)\n",
        "y_pred = classifier.predict(x_test)\n",
        "from sklearn.metrics import mean_squared_error\n",
        "mean_squared_error(y_pred,y_test)\n",
        "q=classifier.predict(test)\n",
        "pd.DataFrame(q).to_csv(r'C:h\\Users\\UCAS_BigBird\\Desktop\\Neural.txt',index=False,header=False)"
      ],
      "execution_count": 0,
      "outputs": []
    },
    {
      "metadata": {
        "id": "eRiElSJFoAyS",
        "colab_type": "code",
        "colab": {}
      },
      "cell_type": "code",
      "source": [
        ""
      ],
      "execution_count": 0,
      "outputs": []
    },
    {
      "metadata": {
        "id": "WDBHosHLZF_l",
        "colab_type": "code",
        "colab": {}
      },
      "cell_type": "code",
      "source": [
        ""
      ],
      "execution_count": 0,
      "outputs": []
    },
    {
      "metadata": {
        "id": "lmV8HkzKermy",
        "colab_type": "code",
        "colab": {}
      },
      "cell_type": "code",
      "source": [
        ""
      ],
      "execution_count": 0,
      "outputs": []
    },
    {
      "metadata": {
        "id": "oSlDQIq-jqLx",
        "colab_type": "code",
        "colab": {
          "base_uri": "https://localhost:8080/",
          "height": 87
        },
        "outputId": "d59ba5fb-1411-42ea-e104-3efee549bb94"
      },
      "cell_type": "code",
      "source": [
        ""
      ],
      "execution_count": 13,
      "outputs": [
        {
          "output_type": "stream",
          "text": [
            "(2310, 38)\n",
            "(578, 38)\n",
            "(2310,)\n",
            "(578,)\n"
          ],
          "name": "stdout"
        }
      ]
    },
    {
      "metadata": {
        "id": "16U4r6cjelu6",
        "colab_type": "code",
        "colab": {
          "base_uri": "https://localhost:8080/",
          "height": 107
        },
        "outputId": "84579d77-ae3f-4175-8444-836dc7d8681d"
      },
      "cell_type": "code",
      "source": [
        ""
      ],
      "execution_count": 15,
      "outputs": [
        {
          "output_type": "stream",
          "text": [
            "Using TensorFlow backend.\n"
          ],
          "name": "stderr"
        },
        {
          "output_type": "stream",
          "text": [
            "WARNING:tensorflow:From /usr/local/lib/python3.6/dist-packages/tensorflow/python/framework/op_def_library.py:263: colocate_with (from tensorflow.python.framework.ops) is deprecated and will be removed in a future version.\n",
            "Instructions for updating:\n",
            "Colocations handled automatically by placer.\n"
          ],
          "name": "stdout"
        }
      ]
    },
    {
      "metadata": {
        "id": "0naOIaVTgszb",
        "colab_type": "code",
        "colab": {
          "base_uri": "https://localhost:8080/",
          "height": 3622
        },
        "outputId": "b7f15397-4d27-4615-c519-2027aaf93083"
      },
      "cell_type": "code",
      "source": [
        ""
      ],
      "execution_count": 16,
      "outputs": [
        {
          "output_type": "stream",
          "text": [
            "WARNING:tensorflow:From /usr/local/lib/python3.6/dist-packages/tensorflow/python/ops/math_ops.py:3066: to_int32 (from tensorflow.python.ops.math_ops) is deprecated and will be removed in a future version.\n",
            "Instructions for updating:\n",
            "Use tf.cast instead.\n",
            "Epoch 1/100\n",
            "2310/2310 [==============================] - 2s 1ms/step - loss: 0.4138\n",
            "Epoch 2/100\n",
            "2310/2310 [==============================] - 2s 694us/step - loss: 0.1486\n",
            "Epoch 3/100\n",
            "2310/2310 [==============================] - 2s 692us/step - loss: 0.1296\n",
            "Epoch 4/100\n",
            "2310/2310 [==============================] - 2s 701us/step - loss: 0.1211\n",
            "Epoch 5/100\n",
            "2310/2310 [==============================] - 2s 689us/step - loss: 0.1157\n",
            "Epoch 6/100\n",
            "2310/2310 [==============================] - 2s 706us/step - loss: 0.1126\n",
            "Epoch 7/100\n",
            "2310/2310 [==============================] - 2s 700us/step - loss: 0.1092\n",
            "Epoch 8/100\n",
            "2310/2310 [==============================] - 2s 701us/step - loss: 0.1073\n",
            "Epoch 9/100\n",
            "2310/2310 [==============================] - 2s 709us/step - loss: 0.1046\n",
            "Epoch 10/100\n",
            "2310/2310 [==============================] - 2s 701us/step - loss: 0.1026\n",
            "Epoch 11/100\n",
            "2310/2310 [==============================] - 2s 692us/step - loss: 0.1017\n",
            "Epoch 12/100\n",
            "2310/2310 [==============================] - 2s 701us/step - loss: 0.1002\n",
            "Epoch 13/100\n",
            "2310/2310 [==============================] - 2s 693us/step - loss: 0.0991\n",
            "Epoch 14/100\n",
            "2310/2310 [==============================] - 2s 704us/step - loss: 0.0978\n",
            "Epoch 15/100\n",
            "2310/2310 [==============================] - 2s 690us/step - loss: 0.0973\n",
            "Epoch 16/100\n",
            "2310/2310 [==============================] - 2s 703us/step - loss: 0.0961\n",
            "Epoch 17/100\n",
            "2310/2310 [==============================] - 2s 690us/step - loss: 0.0947\n",
            "Epoch 18/100\n",
            "2310/2310 [==============================] - 2s 687us/step - loss: 0.0949\n",
            "Epoch 19/100\n",
            "2310/2310 [==============================] - 2s 685us/step - loss: 0.0932\n",
            "Epoch 20/100\n",
            "2310/2310 [==============================] - 2s 683us/step - loss: 0.0934\n",
            "Epoch 21/100\n",
            "2310/2310 [==============================] - 2s 701us/step - loss: 0.0923\n",
            "Epoch 22/100\n",
            "2310/2310 [==============================] - 2s 696us/step - loss: 0.0915\n",
            "Epoch 23/100\n",
            "2310/2310 [==============================] - 2s 690us/step - loss: 0.0913\n",
            "Epoch 24/100\n",
            "2310/2310 [==============================] - 2s 698us/step - loss: 0.0912\n",
            "Epoch 25/100\n",
            "2310/2310 [==============================] - 2s 689us/step - loss: 0.0906\n",
            "Epoch 26/100\n",
            "2310/2310 [==============================] - 2s 696us/step - loss: 0.0896\n",
            "Epoch 27/100\n",
            "2310/2310 [==============================] - 2s 683us/step - loss: 0.0888\n",
            "Epoch 28/100\n",
            "2310/2310 [==============================] - 2s 698us/step - loss: 0.0886\n",
            "Epoch 29/100\n",
            "2310/2310 [==============================] - 2s 685us/step - loss: 0.0885\n",
            "Epoch 30/100\n",
            "2310/2310 [==============================] - 2s 695us/step - loss: 0.0875\n",
            "Epoch 31/100\n",
            "2310/2310 [==============================] - 2s 681us/step - loss: 0.0872\n",
            "Epoch 32/100\n",
            "2310/2310 [==============================] - 2s 726us/step - loss: 0.0872\n",
            "Epoch 33/100\n",
            "2310/2310 [==============================] - 2s 728us/step - loss: 0.0866\n",
            "Epoch 34/100\n",
            "2310/2310 [==============================] - 2s 722us/step - loss: 0.0861\n",
            "Epoch 35/100\n",
            "2310/2310 [==============================] - 2s 719us/step - loss: 0.0858\n",
            "Epoch 36/100\n",
            "2310/2310 [==============================] - 2s 729us/step - loss: 0.0855\n",
            "Epoch 37/100\n",
            "2310/2310 [==============================] - 2s 722us/step - loss: 0.0852\n",
            "Epoch 38/100\n",
            "2310/2310 [==============================] - 2s 701us/step - loss: 0.0847\n",
            "Epoch 39/100\n",
            "2310/2310 [==============================] - 2s 683us/step - loss: 0.0842\n",
            "Epoch 40/100\n",
            "2310/2310 [==============================] - 2s 692us/step - loss: 0.0837\n",
            "Epoch 41/100\n",
            "2310/2310 [==============================] - 2s 685us/step - loss: 0.0837\n",
            "Epoch 42/100\n",
            "2310/2310 [==============================] - 2s 696us/step - loss: 0.0832\n",
            "Epoch 43/100\n",
            "2310/2310 [==============================] - 2s 679us/step - loss: 0.0827\n",
            "Epoch 44/100\n",
            "2310/2310 [==============================] - 2s 690us/step - loss: 0.0825\n",
            "Epoch 45/100\n",
            "2310/2310 [==============================] - 2s 693us/step - loss: 0.0823\n",
            "Epoch 46/100\n",
            "2310/2310 [==============================] - 2s 683us/step - loss: 0.0817\n",
            "Epoch 47/100\n",
            "2310/2310 [==============================] - 2s 693us/step - loss: 0.0814\n",
            "Epoch 48/100\n",
            "2310/2310 [==============================] - 2s 693us/step - loss: 0.0808\n",
            "Epoch 49/100\n",
            "2310/2310 [==============================] - 2s 683us/step - loss: 0.0808\n",
            "Epoch 50/100\n",
            "2310/2310 [==============================] - 2s 678us/step - loss: 0.0803\n",
            "Epoch 51/100\n",
            "2310/2310 [==============================] - 2s 683us/step - loss: 0.0802\n",
            "Epoch 52/100\n",
            "2310/2310 [==============================] - 2s 680us/step - loss: 0.0799\n",
            "Epoch 53/100\n",
            "2310/2310 [==============================] - 2s 680us/step - loss: 0.0800\n",
            "Epoch 54/100\n",
            "2310/2310 [==============================] - 2s 678us/step - loss: 0.0787\n",
            "Epoch 55/100\n",
            "2310/2310 [==============================] - 2s 677us/step - loss: 0.0792\n",
            "Epoch 56/100\n",
            "2310/2310 [==============================] - 2s 676us/step - loss: 0.0778\n",
            "Epoch 57/100\n",
            "2310/2310 [==============================] - 2s 682us/step - loss: 0.0779\n",
            "Epoch 58/100\n",
            "2310/2310 [==============================] - 2s 689us/step - loss: 0.0776\n",
            "Epoch 59/100\n",
            "2310/2310 [==============================] - 2s 678us/step - loss: 0.0778\n",
            "Epoch 60/100\n",
            "2310/2310 [==============================] - 2s 680us/step - loss: 0.0776\n",
            "Epoch 61/100\n",
            "2310/2310 [==============================] - 2s 676us/step - loss: 0.0772\n",
            "Epoch 62/100\n",
            "2310/2310 [==============================] - 2s 687us/step - loss: 0.0767\n",
            "Epoch 63/100\n",
            "2310/2310 [==============================] - 2s 676us/step - loss: 0.0766\n",
            "Epoch 64/100\n",
            "2310/2310 [==============================] - 2s 692us/step - loss: 0.0758\n",
            "Epoch 65/100\n",
            "2310/2310 [==============================] - 2s 701us/step - loss: 0.0760\n",
            "Epoch 66/100\n",
            "2310/2310 [==============================] - 2s 688us/step - loss: 0.0757\n",
            "Epoch 67/100\n",
            "2310/2310 [==============================] - 2s 683us/step - loss: 0.0754\n",
            "Epoch 68/100\n",
            "2310/2310 [==============================] - 2s 681us/step - loss: 0.0739\n",
            "Epoch 69/100\n",
            "2310/2310 [==============================] - 2s 684us/step - loss: 0.0744\n",
            "Epoch 70/100\n",
            "2310/2310 [==============================] - 2s 677us/step - loss: 0.0741\n",
            "Epoch 71/100\n",
            "2310/2310 [==============================] - 2s 680us/step - loss: 0.0740\n",
            "Epoch 72/100\n",
            "2310/2310 [==============================] - 2s 675us/step - loss: 0.0740\n",
            "Epoch 73/100\n",
            "2310/2310 [==============================] - 2s 673us/step - loss: 0.0735\n",
            "Epoch 74/100\n",
            "2310/2310 [==============================] - 2s 667us/step - loss: 0.0735\n",
            "Epoch 75/100\n",
            "2310/2310 [==============================] - 2s 680us/step - loss: 0.0730\n",
            "Epoch 76/100\n",
            "2310/2310 [==============================] - 2s 674us/step - loss: 0.0723\n",
            "Epoch 77/100\n",
            "2310/2310 [==============================] - 2s 685us/step - loss: 0.0721\n",
            "Epoch 78/100\n",
            "2310/2310 [==============================] - 2s 682us/step - loss: 0.0723\n",
            "Epoch 79/100\n",
            "2310/2310 [==============================] - 2s 679us/step - loss: 0.0720\n",
            "Epoch 80/100\n",
            "2310/2310 [==============================] - 2s 677us/step - loss: 0.0711\n",
            "Epoch 81/100\n",
            "2310/2310 [==============================] - 2s 687us/step - loss: 0.0714\n",
            "Epoch 82/100\n",
            "2310/2310 [==============================] - 2s 676us/step - loss: 0.0716\n",
            "Epoch 83/100\n",
            "2310/2310 [==============================] - 2s 696us/step - loss: 0.0703\n",
            "Epoch 84/100\n",
            "2310/2310 [==============================] - 2s 694us/step - loss: 0.0709\n",
            "Epoch 85/100\n",
            "2310/2310 [==============================] - 2s 684us/step - loss: 0.0709\n",
            "Epoch 86/100\n",
            "2310/2310 [==============================] - 2s 675us/step - loss: 0.0705\n",
            "Epoch 87/100\n",
            "2310/2310 [==============================] - 2s 679us/step - loss: 0.0697\n",
            "Epoch 88/100\n",
            "2310/2310 [==============================] - 2s 689us/step - loss: 0.0702\n",
            "Epoch 89/100\n",
            "2310/2310 [==============================] - 2s 675us/step - loss: 0.0695\n",
            "Epoch 90/100\n",
            "2310/2310 [==============================] - 2s 690us/step - loss: 0.0700\n",
            "Epoch 91/100\n",
            "2310/2310 [==============================] - 2s 685us/step - loss: 0.0703\n",
            "Epoch 92/100\n",
            "2310/2310 [==============================] - 2s 686us/step - loss: 0.0688\n",
            "Epoch 93/100\n",
            "2310/2310 [==============================] - 2s 671us/step - loss: 0.0686\n",
            "Epoch 94/100\n",
            "2310/2310 [==============================] - 2s 681us/step - loss: 0.0690\n",
            "Epoch 95/100\n",
            "2310/2310 [==============================] - 2s 683us/step - loss: 0.0688\n",
            "Epoch 96/100\n",
            "2310/2310 [==============================] - 2s 694us/step - loss: 0.0685\n",
            "Epoch 97/100\n",
            "2310/2310 [==============================] - 2s 691us/step - loss: 0.0684\n",
            "Epoch 98/100\n",
            "2310/2310 [==============================] - 2s 711us/step - loss: 0.0682\n",
            "Epoch 99/100\n",
            "2310/2310 [==============================] - 2s 729us/step - loss: 0.0677\n",
            "Epoch 100/100\n",
            "2310/2310 [==============================] - 2s 730us/step - loss: 0.0686\n"
          ],
          "name": "stdout"
        },
        {
          "output_type": "execute_result",
          "data": {
            "text/plain": [
              "<keras.callbacks.History at 0x7f32e0b9ff98>"
            ]
          },
          "metadata": {
            "tags": []
          },
          "execution_count": 16
        }
      ]
    },
    {
      "metadata": {
        "id": "4LL8Lsn6gxZO",
        "colab_type": "code",
        "colab": {
          "base_uri": "https://localhost:8080/",
          "height": 34
        },
        "outputId": "29cfc426-ff09-452c-acd8-bc53e819462f"
      },
      "cell_type": "code",
      "source": [
        ""
      ],
      "execution_count": 17,
      "outputs": [
        {
          "output_type": "execute_result",
          "data": {
            "text/plain": [
              "0.10500285119619104"
            ]
          },
          "metadata": {
            "tags": []
          },
          "execution_count": 17
        }
      ]
    },
    {
      "metadata": {
        "id": "LixJuRIph_lb",
        "colab_type": "code",
        "colab": {}
      },
      "cell_type": "code",
      "source": [
        ""
      ],
      "execution_count": 0,
      "outputs": []
    },
    {
      "metadata": {
        "id": "nXmQmuFQnRFG",
        "colab_type": "code",
        "colab": {}
      },
      "cell_type": "code",
      "source": [
        "\n"
      ],
      "execution_count": 0,
      "outputs": []
    },
    {
      "metadata": {
        "id": "g2VTW7dfn-kg",
        "colab_type": "code",
        "colab": {}
      },
      "cell_type": "code",
      "source": [
        ""
      ],
      "execution_count": 0,
      "outputs": []
    },
    {
      "metadata": {
        "id": "dBSSqlhJnR8O",
        "colab_type": "code",
        "colab": {}
      },
      "cell_type": "code",
      "source": [
        ""
      ],
      "execution_count": 0,
      "outputs": []
    }
  ]
}